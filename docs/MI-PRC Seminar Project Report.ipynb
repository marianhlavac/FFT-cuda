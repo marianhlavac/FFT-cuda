{
 "cells": [
  {
   "cell_type": "markdown",
   "metadata": {},
   "source": [
    "# Zpráva k semestrální práci MI-PRC: Rychlá Fourierova transformace\n",
    "\n",
    "**Marián Hlaváč** (hlavam30), marian.hlavac@fit.cvut.cz  \n",
    "*Poslední aktualizace 25 Nov 2017*  \n",
    "https://github.com/mmajko/FFT-cuda\n",
    "\n",
    "## Zadání semestrální práce\n",
    "\n",
    "Úkolem semestrální práce je implementovat sekvenční FFT algoritmus a převést jej na jednoduše paralelizovatelnou variantu. Následně výpočet tohoto algoritmu zrychlit pomocí programovacího modelu OpenACC a na závěr jej optimalizovat pro jednotky CUDA.\n",
    "\n",
    "## Nástroje\n",
    "\n",
    "K implementaci algoritmu byl využit jazyk C++, k aplikaci bylo napsáno několik podpůrných shell a Python skriptů a zpráva byla vypracována v Jupyter Notebooku.\n",
    "\n",
    "## Algoritmus\n",
    "\n",
    "Algoritmus byl implementován s využitím komplexních čísel, in-place, iterativně. Pro účely OpenACC pak byl upraven o formu vstupních a výstupních dat. Algoritmus pracuje s polem float čísel, obsahující sekvenčně za sebou reálné a imaginární části.\n",
    "\n",
    "Na GPU je překopírována jednodušší varianta pole, shodná s počtem vzorků v instanci, tedy **n** (protože imaginární části jsou na začátku práce s algoritmem nulové), GPU si vytvoří výše zmíněnou strukturu pro komplexní čísla o velikosti **2n**. Po dokončení práce je z GPU překopírována pouze poloviční velikost tohoto pole, jelikož druhá část pole obsahuje neirelevantní výsledky (důsledek Nyquist–Shannon sampling theorem). Bylo by ještě více efektivnější překopírovat pouze reálné části z tohoto pole, ale to by pravděpodobně díky zvolené struktuře bylo složitější a nemuselo by to ušetřit prostředky.\n",
    "\n",
    "### Vstupní data\n",
    "\n",
    "Pro účely měření byl vygenerován balíček instancí, které sloužily jako vstupní data. Nacházejí se v repozitáři ve složce `data/` a jsou tříděny podle formy dat nacházejících se uvnitř dat do jednotlivých adresářů. V adresářích se pak nacházejí samotná data. Názvy souborů popisují další vlastnosti dat, jako je počet vzorků a vzorkovací frekvenci.\n",
    "\n",
    "Počty vzorků pro měření byly zvoleny v rozsahu 128 - 65536.\n",
    "\n",
    "### Výstupní data\n",
    "\n",
    "Výstup algoritmu se uloží vedle datových souborů, s příponou `.out`. Tyto data pak lze hezky zobrazit pomocí krátkého Python skriptu, který je vykreslí ve formě grafů.\n",
    "\n",
    "![](./fancyscreenshot.png)\n",
    "\n",
    "\n",
    "Na standardní výstup se pak vypíší informace o průběhu výpočtu. Tyto informace jsou úzce přizpůsobeny pro účely zprávy, obsahují tak místy redundantní data. Informace jsou odděleny čárkou, aby pak byla jednoduše převoditelná do CSV formátu.\n",
    "\n",
    "Pořadí informací je následující: \n",
    " - složka s daty\n",
    " - počet vzorků\n",
    " - vzorkovací frekvence\n",
    " - počet OpenACC gangů / CUDA nastavení\n",
    " - doba trvání v mikrosekundách\n",
    " \n",
    "Předposlední položka je proměnlivá v závislosti na podúkolu semestrální práce (OpenACC vs CUDA).\n",
    "\n",
    "Řádky s hodnotou 0 ve sloupci **num_gangs** představují výpočet na CPU.\n"
   ]
  },
  {
   "cell_type": "markdown",
   "metadata": {},
   "source": [
    "## OpenACC\n",
    "\n",
    "OpenACC umožňuje pomocí `pragma` direktiv rychle obohatit algoritmus o paralelismus.\n",
    "\n",
    "### Výsledky\n",
    "\n",
    "Výstupem programu, jak bylo výše zmíněno, jsou CSV data obsahující informace o průběhu výpočtů:"
   ]
  },
  {
   "cell_type": "code",
   "execution_count": null,
   "metadata": {},
   "outputs": [],
   "source": [
    "import pandas as pd\n",
    "import numpy as np\n",
    "import matplotlib.pyplot as plt\n",
    "import matplotlib\n",
    "\n",
    "# Konfigurace vizualizace dat\n",
    "%matplotlib inline\n",
    "matplotlib.rcParams['figure.figsize'] = (13.0, 7.0)\n",
    "matplotlib.style.use('ggplot')\n",
    "pd.options.display.max_rows = 10\n",
    "\n",
    "# Čtení dat z běhu programu\n",
    "gpus = pd.read_csv(\"results/run-star.sh.o1912\")\n",
    "cpus = pd.read_csv(\"results/cpu\")\n",
    "\n",
    "data = pd.concat([gpus, cpus])\n",
    "data"
   ]
  },
  {
   "cell_type": "markdown",
   "metadata": {},
   "source": [
    "### Závislost doby výpočtu na počtu vzorků\n",
    "\n",
    "Průměr doby výpočtu společně na platformě CPU by měl naznačovat, jak obecně stoupá složitost výpočtu se vzrůstajícím počtem vzorků."
   ]
  },
  {
   "cell_type": "code",
   "execution_count": null,
   "metadata": {},
   "outputs": [],
   "source": [
    "samplesvstime = data[data['num_gangs'] == 0].groupby('samples').mean()[['elapsed_us']]\n",
    "\n",
    "plt.plot(samplesvstime, color='indianred', marker='o', markersize=10, ls='--', lw=2)\n",
    "table = plt.table(cellText=samplesvstime.as_matrix(), loc='lower right', colWidths=[0.2], rowLabels=samplesvstime.index)\n",
    "plt.title('Závislost výpočetního času na velikosti instance (průměr)')\n",
    "plt.show()"
   ]
  },
  {
   "cell_type": "markdown",
   "metadata": {},
   "source": [
    "### Zrychlení díky paralelizaci\n",
    "\n",
    "Níže lze vidět jakých rychlostí výpočtu se dosáhlo při různých úrovních paralelizace (nastavení `num_gangs`) průměrně pro všechny velikosti instancí.\n",
    "\n",
    "*Jako dříve zmíněno, num_gangs=0 značí výpočet na CPU.*"
   ]
  },
  {
   "cell_type": "code",
   "execution_count": null,
   "metadata": {},
   "outputs": [],
   "source": [
    "samplesvstime = data.groupby('num_gangs').mean()[['elapsed_us']]\n",
    "ax = samplesvstime.plot(kind = 'bar', color='seagreen')\n",
    "ax.set_title('Průměrná doba výpočtu pro jednotlivé num_gangs')\n",
    "ax.patches[0].set_facecolor('indianred')"
   ]
  },
  {
   "cell_type": "markdown",
   "metadata": {},
   "source": [
    "### Zrychlení díky paralelizaci relativně k velikosti instancí\n",
    "\n",
    "K tomuto pokusu jsem vybral čtyři vzorky a pozoroval stejné vlastnosti jako na grafu výše, jen s tím rozdílem, že se nejedná o průměr všech velikostí instancí.\n",
    "\n",
    "**Velikosti instancí jsou následující: 128, 1024, 8192 a 65536**"
   ]
  },
  {
   "cell_type": "code",
   "execution_count": null,
   "metadata": {},
   "outputs": [],
   "source": [
    "fig, axes = plt.subplots(nrows=2, ncols=2)\n",
    "\n",
    "for st in [[128, axes[0, 0]], [1024, axes[0, 1]], [8192, axes[1, 0]], [65536, axes[1, 1]]]:\n",
    "    ax = data[data['samples'] == st[0]].groupby('num_gangs').mean()[['elapsed_us']].plot(kind='bar', color='seagreen', ax=st[1])\n",
    "    ax.set_title('Doba výpočtu při {} vzorcích'.format(st[0]))\n",
    "    ax.patches[0].set_facecolor('indianred')"
   ]
  },
  {
   "cell_type": "markdown",
   "metadata": {},
   "source": [
    "### Závěr k implementaci OpenACC\n",
    "\n",
    "Je přinejmenším záhadou, proč se **graf náročnosti výpočtu** se vzrůstajícím počtem prvků v instanci jeví jako lineární. Tady se v datech něco zřejmě nepovedlo, internetové zdroje tvrdí, že složitost FFT algoritmu je `O(n log n)`. Nemyslím si, že bych implementoval kouzelný algoritmus s lepší složitostí, než všechny ostatní. Vinu je pravděpodobně možné klást na nějakou cache, nebo jednodušeji na špatně spočítaná data o trvání výpočtů. Bohužel mě tlačí čas a tak k tomuto bodu odevzdání nemám prostor k nějaké investigativní aktivitě, abych zjistil, co se pokazilo.\n",
    "\n",
    "**Graf zrychlení díky paralelizaci** dopadl mnohem lépe a podle očekávání. Režie kopírování dat na GPU je náročná a tak průměrně při num_gangs menším nebo rovno 4 nebylo dosaženo žádného zrychlení, ale právě naopak. Průměrně platilo, že s vyšším počtem num_gangs je ale výpočet rychlejší a efektivita paralelizace končí u num_gangs 256 a vyšší.\n",
    "\n",
    "U menších instancí je tento fakt mnohem znatelnější, např. u instance o velikosti *128* lze pozorovat, že paralelizace vůbec nepomohla. Naopak u instance o velikosti *65536* lze pozorovat až `11,2x` zrychlení oproti výpočtu na CPU.\n"
   ]
  },
  {
   "cell_type": "markdown",
   "metadata": {},
   "source": [
    "## CUDA\n",
    "\n",
    "CUDA část je napsána v **CUDA C** a kompilována pomocí `nvcc`.\n",
    "\n",
    "Velmi podobným způsobem bylo zkoumáno zrychlení při přepisu z OpenACC do CUDA. Kód pro CUDA je o něco přehlednější, kvalitnější a pokročilejší, než pro OpenACC. Aby došlo ke skutečně zrychlující paralelizaci, jsou paralelizovány dva cykly v iterativním výpočtu FFT. \n",
    "\n",
    "### Balancování cyklů\n",
    "\n",
    "Dva cykly obaluje ještě jeden cyklus, který je opakován log2(n) krát a je spouštěn sekvenčně, dva paralelizované cykly uvnitř něj zachovávají stejný počet provedení nejvnitřnějšího procesu (`n/2` krát), ale mění se počty opakování jednotlivých cyklů. Zatímco vnějšímu cyklu počty opakování klesají (pro `n = 8K` je to `4K, 2K ... 2`), vnitřnímu cyklu počty opakování rovnocenně stoupají (pro `n=8K` je to `1, 2, ..., 2K`).\n",
    "\n",
    "Stanovil jsem tak parametr balance, jehož změnou chci ověřit, zda skutečně je správná teoretická úvaha nastavit tento parametr v rozsahu `n/3` až `n/4` pro nejlepší rozdělení práce a nejrychlejší provedení výpočtu.\n",
    "\n",
    "Parametr určuje, od které hodnoty `n/m` bude který cyklus paralelizován (nevyužil jsem funkce kernel v kernelech), jestli vnější, nebo vnitřní.\n",
    "\n",
    "### Počty bloků a vláken\n",
    "\n",
    "Do programu jsem zahrnul pouze jeden parametr, a to je počet vláken na každý blok.\n",
    "\n",
    "Uvažoval jsem `r` jako počet opakování cyklu, který chci paralelizovat, a `threads` jako počet vláken na každý blok. Počet bloků každému paralelizovanému cyklu jsem nastavil jako `ceil(r / threads)`.\n",
    "\n",
    "### Výsledky"
   ]
  },
  {
   "cell_type": "code",
   "execution_count": null,
   "metadata": {},
   "outputs": [],
   "source": [
    "# Čtení dat z běhu programu\n",
    "cudata = pd.read_csv(\"results/cuda-outputs.csv\")\n",
    "cudata"
   ]
  },
  {
   "cell_type": "code",
   "execution_count": null,
   "metadata": {},
   "outputs": [],
   "source": [
    "cusamplesvstime = cudata.groupby('samples').min()[['elapsed_us']]\n",
    "\n",
    "plt.plot(cusamplesvstime, color='indianred', marker='o', markersize=10, ls='--', lw=2)\n",
    "table = plt.table(cellText=cusamplesvstime.as_matrix(), loc='lower right', colWidths=[0.2], rowLabels=cusamplesvstime.index)\n",
    "plt.title('Závislost výpočetního času na velikosti instance (mikrosekundy, minimum)')\n",
    "plt.show()"
   ]
  },
  {
   "cell_type": "markdown",
   "metadata": {},
   "source": [
    "#### Šum výsledků\n",
    "\n",
    "Jako první vlastnosti jsem si všiml znatelného šumu mezi jednotlivými výsledky se stejnými parametry. Nepodařilo se zjistit příčinu, ani co ovlivňuje jejich velikost.\n",
    "\n",
    "Jako částečné řešení jsem tak zvolil opakované výpočty, které sice znásobily čekání na výsledná data, ale poskytly větší přesnost. Vygenerovaná data jsou tak třikrát opakovaná.\n",
    "\n",
    "#### Počty vláken\n",
    "\n",
    "Měnil jsem parametr počtů vláken v rozsahu `1 - 1024`. Překvapivě tento parametr neovlivnil dobu výpočtu tak drasticky, jako jsem očekával."
   ]
  },
  {
   "cell_type": "code",
   "execution_count": null,
   "metadata": {},
   "outputs": [],
   "source": [
    "threadsvstime = cudata.groupby('threads').mean()[['elapsed_us']]\n",
    "threadsvstime.plot(color='indianred', kind = 'bar')\n",
    "plt.title('Doba výpočtu pro různá nastavení počtu vláken na blok')\n",
    "threadsvstime.plot(color='indianred', kind = 'bar')\n",
    "plt.ylim([25000, 27000])\n",
    "plt.title('Doba výpočtu pro různá nastavení počtu vláken na blok (přiblížené)')\n",
    "table = plt.table(cellText=threadsvstime.as_matrix(), loc='lower right', colWidths=[0.2], rowLabels=threadsvstime.index, zorder=1)"
   ]
  },
  {
   "cell_type": "code",
   "execution_count": null,
   "metadata": {},
   "outputs": [],
   "source": [
    "fig, axes = plt.subplots(nrows=2, ncols=2)\n",
    "\n",
    "for st in [[128, axes[0, 0]], [2048, axes[0, 1]], [8192, axes[1, 0]], [65536, axes[1, 1]]]:\n",
    "    maximum = cudata[cudata['samples'] == st[0]].groupby('threads').mean()['elapsed_us'].max()\n",
    "    ax = cudata[cudata['samples'] == st[0]].groupby('threads').mean()[['elapsed_us']].plot(kind='bar', color='seagreen', ax=st[1])\n",
    "    ax.set_title('Doba výpočtu při {} vzorcích vzhl. k threads'.format(st[0]))\n",
    "    ax.set_ylim([maximum * 0.85, maximum * 1.05])"
   ]
  },
  {
   "cell_type": "markdown",
   "metadata": {},
   "source": [
    "\n",
    "\n",
    "Nejlepších hodnot bylo dosáhnuto při nízkých hodnotách tohoto parametru. Nejrychlejších úspěchů bylo dosáhnuto s počtem vláken na blok roven `8`.\n",
    "\n",
    "#### Balancování paralelizovaných cyklů\n",
    "\n",
    "Jak bylo výše popsáno, ověřoval jsem doby výpočtu pro různá nastavení parametru balance, který u\n",
    "\n"
   ]
  },
  {
   "cell_type": "code",
   "execution_count": null,
   "metadata": {},
   "outputs": [],
   "source": [
    "balancevstime = cudata[cudata['threads'] == 8].groupby('balance').mean()[['elapsed_us']]\n",
    "balancevstime.plot(color='indianred', kind = 'bar')\n",
    "plt.title('Doba výpočtu pro různá nastavení parametru balance')\n",
    "balancevstime.plot(color='indianred', kind = 'bar')\n",
    "plt.ylim([-20, 6000])\n",
    "table = plt.table(cellText=balancevstime.as_matrix(), loc='lower right', colWidths=[0.2], rowLabels=balancevstime.index, zorder=1)\n",
    "\n",
    "plt.title('Doba výpočtu pro různá nastavení parametru balance (přiblížené)')"
   ]
  },
  {
   "cell_type": "code",
   "execution_count": null,
   "metadata": {},
   "outputs": [],
   "source": [
    "fig, axes = plt.subplots(nrows=2, ncols=2)\n",
    "\n",
    "for st in [[128, axes[0, 0]], [2048, axes[0, 1]], [8192, axes[1, 0]], [65536, axes[1, 1]]]:\n",
    "    ax = cudata[cudata['samples'] == st[0]].groupby('balance').mean()[['elapsed_us']].plot(kind='bar', color='seagreen', ax=st[1])\n",
    "    ax.set_title('Doba výpočtu při {} vzorcích vzhl. k balance'.format(st[0]))"
   ]
  },
  {
   "cell_type": "markdown",
   "metadata": {},
   "source": [
    "#### Nejlepší výsledky\n",
    "\n",
    "Pro každý počet vzorků jsem vypsal nejrychlejší výpočet a jeho parametry.\n",
    "\n",
    "Skutečně lze i prakticky potvrdit, že nejvhodnější nastavení parametrů je:\n",
    " - počet vláken nastaven na nízké hodnoty (závislost na n lze určit obtížně, ale zdá se přibližně jako dvacetina procenta)\n",
    " - parametr balancování nastavit na n/4\n",
    "\n"
   ]
  },
  {
   "cell_type": "code",
   "execution_count": null,
   "metadata": {},
   "outputs": [],
   "source": [
    "cudata.loc[cudata.groupby('samples')['elapsed_us'].idxmin()]"
   ]
  },
  {
   "cell_type": "markdown",
   "metadata": {},
   "source": [
    "### Porovnání s OpenACC"
   ]
  },
  {
   "cell_type": "code",
   "execution_count": null,
   "metadata": {},
   "outputs": [],
   "source": [
    "import matplotlib.patches as mpatches\n",
    "oaccvscu = data[data['num_gangs'] == 128].groupby('samples').min()[['elapsed_us']]\n",
    "plt.plot(cusamplesvstime, color='indianred', marker='o', markersize=10, ls='--', lw=2)\n",
    "plt.plot(oaccvscu, color='steelblue', marker='o', markersize=10, ls='--', lw=2)\n",
    "plt.title('Závislost výpočetního času na velikosti instance (mikrosekundy, minimum)')\n",
    "p1 = mpatches.Patch(color='indianred', label='CUDA C')\n",
    "p2 = mpatches.Patch(color='steelblue', label='OpenACC')\n",
    "plt.legend(handles=[p1, p2])\n",
    "\n",
    "plt.show()\n",
    "plt.show()"
   ]
  },
  {
   "cell_type": "markdown",
   "metadata": {},
   "source": [
    "Na grafu jde vidět, že se CUDA varianta vyplatí až při větších instancích. Při menších instancích si OpenACC vedlo lépe.\n",
    "\n",
    "### Porovnání s knihovní funkcí cufft\n",
    "\n",
    "...\n",
    "\n",
    "### Závěr k implementaci CUDA\n",
    "\n",
    "Subjektivně jsem očekával lepší výsledky. Zároveň si stále nejsem jist správností postupu balancování paralelizace mezi dvěmi cykly.\n",
    "\n",
    "V tomto případě by možná byly vhodné varianty, kdy se celý algoritmus přepíše do jiné formy (s jedním cyklem, místo více vnořených), nebo se na vnořené cykly použijí kernely v kernelech. Obě varianty ale naznačují, že budou pracné.\n",
    "\n"
   ]
  },
  {
   "cell_type": "markdown",
   "metadata": {},
   "source": [
    "## Závěr\n",
    "\n",
    "OpenACC byla mnohem pracnější a nervydrásající záležitost. Subjektivně mám pocit, že v CUDA C program dělá přesně to, co něm člověk chce a podle toho také dopadly i výsledky. S CUDA C se pracovalo daleko lépe, než s OpenACC.\n",
    "\n",
    "OpenACC ovšem pro malé instance nastavilo paralelizaci lépe, než já v CUDA C. Celá semestrální práce nabízí spoustu dalších směrů, jak by se dal výpočet experimentálně vylepšit.\n",
    "\n",
    "Obecně však semestrální práce byla dobrou zkušeností.\n",
    "\n",
    "Zdrojové kódy programu lze najít na GitHubu. Odkaz je v hlavičce zprávy."
   ]
  }
 ],
 "metadata": {
  "kernelspec": {
   "display_name": "Python 3",
   "language": "python",
   "name": "python3"
  },
  "language_info": {
   "codemirror_mode": {
    "name": "ipython",
    "version": 3
   },
   "file_extension": ".py",
   "mimetype": "text/x-python",
   "name": "python",
   "nbconvert_exporter": "python",
   "pygments_lexer": "ipython3",
   "version": "3.6.3"
  }
 },
 "nbformat": 4,
 "nbformat_minor": 2
}
